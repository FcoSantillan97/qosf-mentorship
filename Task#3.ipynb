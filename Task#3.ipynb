{
 "cells": [
  {
   "cell_type": "code",
   "execution_count": 36,
   "id": "d5299076-a0b8-4ae4-b234-531037182656",
   "metadata": {
    "tags": []
   },
   "outputs": [],
   "source": [
    "import numpy as np"
   ]
  },
  {
   "cell_type": "code",
   "execution_count": 37,
   "id": "eaad77cf-04c6-4b28-a943-d862a41900f3",
   "metadata": {
    "tags": []
   },
   "outputs": [],
   "source": [
    "\"\"\"\n",
    "Here I create a unitary gate which is able to re-create any unitary quantum gate, in this case the parameters are chosen so that we can\n",
    "have the X-gate\n",
    "\"\"\"\n",
    "\n",
    "def unitary(theta,phi,lmbda):\n",
    "    a = np.cos(theta/2)\n",
    "    b = -(np.exp(1j*lmbda)*np.sin(theta/2))\n",
    "    c = np.exp(1j*phi)*np.sin(theta/2)\n",
    "    d = np.exp((1j*(phi+lmbda)))*np.cos(theta/2)\n",
    "    Matrix = np.matrix([[a,b],[c,d]])\n",
    "    return np.abs(np.round(Matrix.real)) #rounding and absolute value are taken care of for a simple 0,1 matrix. "
   ]
  },
  {
   "cell_type": "code",
   "execution_count": 38,
   "id": "1411ab24-6228-4cad-a2ce-ca80b14f2abe",
   "metadata": {
    "tags": []
   },
   "outputs": [],
   "source": [
    "def bloc_function(n): # n number is qubits involved (i.e. cx=2, ccx=3, cccx=4)\n",
    "    X_gate = unitary(np.pi,0,np.pi)\n",
    "    if n<2: # if n <2 then its impossible to build a control gate (self explanatory)\n",
    "        return(\"Please input a number equal to or greater than 2\")\n",
    "    n = n-2 # number of qubits after 2, number stays fixed... it will used for iteration limit\n",
    "    counts =0 # number that will be used as a counter for qubit iteration assuming an initial 2 qubits (i.e. 2 qb -> counts=0, 3 qb -> counts=1 and so forth)\n",
    "    while counts<=n:   # start with number of counts as 0, and increase by one everytime you increase a qubit (build from the ground up)\n",
    "        N = 2**(counts+2) #dimensions of the matrix given the number of counts iteration\n",
    "        Id = np.identity(int(N/2))  #identity matrix occupying half of the dimensions\n",
    "        zero = np.zeros((int(N/2),int(N/2))) # zero matrix occupying half of the dimensions\n",
    "        P1 = np.concatenate((Id,zero),axis=1)  #concatenate the former matrix horizontally resulting in the upper half of the matrix filled. \n",
    "        if N==4:\n",
    "            P2 = np.concatenate((zero,X_gate),axis=1) # IF N=4 then we just need to concatenate the lower half of the matrix together (zeros with X_gate)\n",
    "        else:\n",
    "            P2 = np.concatenate((zero,P3),axis=1) #ELSE use P3 which in this case should be a variable from the previous iteration to concatenate zeros with itself.\n",
    "        \n",
    "        P3 = np.concatenate((P1,P2),axis=0) # concatenate P1 and P2 together (upper half and lower half of the square matrix respectively)\n",
    "        counts = counts+1 # increase number of counts by 1\n",
    "        \n",
    "    return P3\n"
   ]
  },
  {
   "cell_type": "code",
   "execution_count": 39,
   "id": "c910ab63-87c3-4b2f-bd43-c60ec6779a29",
   "metadata": {
    "tags": []
   },
   "outputs": [
    {
     "data": {
      "text/plain": [
       "matrix([[1., 0., 0., 0.],\n",
       "        [0., 1., 0., 0.],\n",
       "        [0., 0., 0., 1.],\n",
       "        [0., 0., 1., 0.]])"
      ]
     },
     "execution_count": 39,
     "metadata": {},
     "output_type": "execute_result"
    }
   ],
   "source": [
    "bloc_function(2)"
   ]
  },
  {
   "cell_type": "code",
   "execution_count": 33,
   "id": "a194cc0f-175f-4bde-aa04-a1b0557aba61",
   "metadata": {
    "tags": []
   },
   "outputs": [
    {
     "data": {
      "text/plain": [
       "matrix([[1., 0., 0., 0., 0., 0., 0., 0.],\n",
       "        [0., 1., 0., 0., 0., 0., 0., 0.],\n",
       "        [0., 0., 1., 0., 0., 0., 0., 0.],\n",
       "        [0., 0., 0., 1., 0., 0., 0., 0.],\n",
       "        [0., 0., 0., 0., 1., 0., 0., 0.],\n",
       "        [0., 0., 0., 0., 0., 1., 0., 0.],\n",
       "        [0., 0., 0., 0., 0., 0., 0., 1.],\n",
       "        [0., 0., 0., 0., 0., 0., 1., 0.]])"
      ]
     },
     "execution_count": 33,
     "metadata": {},
     "output_type": "execute_result"
    }
   ],
   "source": [
    "bloc_function(3)"
   ]
  },
  {
   "cell_type": "code",
   "execution_count": 34,
   "id": "159eb660-23ac-4963-822f-da7846a47916",
   "metadata": {
    "tags": []
   },
   "outputs": [
    {
     "data": {
      "text/plain": [
       "matrix([[1., 0., 0., 0., 0., 0., 0., 0., 0., 0., 0., 0., 0., 0., 0., 0.],\n",
       "        [0., 1., 0., 0., 0., 0., 0., 0., 0., 0., 0., 0., 0., 0., 0., 0.],\n",
       "        [0., 0., 1., 0., 0., 0., 0., 0., 0., 0., 0., 0., 0., 0., 0., 0.],\n",
       "        [0., 0., 0., 1., 0., 0., 0., 0., 0., 0., 0., 0., 0., 0., 0., 0.],\n",
       "        [0., 0., 0., 0., 1., 0., 0., 0., 0., 0., 0., 0., 0., 0., 0., 0.],\n",
       "        [0., 0., 0., 0., 0., 1., 0., 0., 0., 0., 0., 0., 0., 0., 0., 0.],\n",
       "        [0., 0., 0., 0., 0., 0., 1., 0., 0., 0., 0., 0., 0., 0., 0., 0.],\n",
       "        [0., 0., 0., 0., 0., 0., 0., 1., 0., 0., 0., 0., 0., 0., 0., 0.],\n",
       "        [0., 0., 0., 0., 0., 0., 0., 0., 1., 0., 0., 0., 0., 0., 0., 0.],\n",
       "        [0., 0., 0., 0., 0., 0., 0., 0., 0., 1., 0., 0., 0., 0., 0., 0.],\n",
       "        [0., 0., 0., 0., 0., 0., 0., 0., 0., 0., 1., 0., 0., 0., 0., 0.],\n",
       "        [0., 0., 0., 0., 0., 0., 0., 0., 0., 0., 0., 1., 0., 0., 0., 0.],\n",
       "        [0., 0., 0., 0., 0., 0., 0., 0., 0., 0., 0., 0., 1., 0., 0., 0.],\n",
       "        [0., 0., 0., 0., 0., 0., 0., 0., 0., 0., 0., 0., 0., 1., 0., 0.],\n",
       "        [0., 0., 0., 0., 0., 0., 0., 0., 0., 0., 0., 0., 0., 0., 0., 1.],\n",
       "        [0., 0., 0., 0., 0., 0., 0., 0., 0., 0., 0., 0., 0., 0., 1., 0.]])"
      ]
     },
     "execution_count": 34,
     "metadata": {},
     "output_type": "execute_result"
    }
   ],
   "source": [
    "bloc_function(4)"
   ]
  },
  {
   "cell_type": "code",
   "execution_count": 35,
   "id": "b76005f2-356d-46a3-9c24-a70257ee09c0",
   "metadata": {
    "tags": []
   },
   "outputs": [
    {
     "name": "stdin",
     "output_type": "stream",
     "text": [
      "Please input the number of qubits involved (minimum 2):  6\n"
     ]
    },
    {
     "data": {
      "text/plain": [
       "matrix([[1., 0., 0., ..., 0., 0., 0.],\n",
       "        [0., 1., 0., ..., 0., 0., 0.],\n",
       "        [0., 0., 1., ..., 0., 0., 0.],\n",
       "        ...,\n",
       "        [0., 0., 0., ..., 1., 0., 0.],\n",
       "        [0., 0., 0., ..., 0., 0., 1.],\n",
       "        [0., 0., 0., ..., 0., 1., 0.]])"
      ]
     },
     "execution_count": 35,
     "metadata": {},
     "output_type": "execute_result"
    }
   ],
   "source": [
    "n = input(\"Please input the number of qubits involved (minimum 2): \" )\n",
    "bloc_function(int(n))"
   ]
  },
  {
   "cell_type": "code",
   "execution_count": null,
   "id": "8b10a41d-06e4-486e-8bd3-c6f320888dc4",
   "metadata": {},
   "outputs": [],
   "source": []
  }
 ],
 "metadata": {
  "kernelspec": {
   "display_name": "Python 3 (ipykernel)",
   "language": "python",
   "name": "python3"
  },
  "language_info": {
   "codemirror_mode": {
    "name": "ipython",
    "version": 3
   },
   "file_extension": ".py",
   "mimetype": "text/x-python",
   "name": "python",
   "nbconvert_exporter": "python",
   "pygments_lexer": "ipython3",
   "version": "3.10.8"
  },
  "widgets": {
   "application/vnd.jupyter.widget-state+json": {
    "state": {
     "04634024155547c08f6fce0c556327d1": {
      "model_module": "@jupyter-widgets/base",
      "model_module_version": "2.0.0",
      "model_name": "LayoutModel",
      "state": {
       "width": "95px"
      }
     },
     "0579d3fc3f1948ae86651f45eee12aa0": {
      "model_module": "@jupyter-widgets/controls",
      "model_module_version": "2.0.0",
      "model_name": "HBoxModel",
      "state": {
       "children": [
        "IPY_MODEL_85df694932b0440ba3f4876cc2626cfe",
        "IPY_MODEL_bc962fdc22e74f36baccbed5bd838f82",
        "IPY_MODEL_bbf240b50aa74d728077257512b57713",
        "IPY_MODEL_4f70099d5d504445a6ccb72b031010d3",
        "IPY_MODEL_dcd2cbf07cf840cdbb3ca4844f3ca217"
       ],
       "layout": "IPY_MODEL_591257f5bd804d9186d1ef52defcb2b4"
      }
     },
     "0e7b1e30fd7540608ce4edbfd58713a3": {
      "model_module": "@jupyter-widgets/controls",
      "model_module_version": "2.0.0",
      "model_name": "HTMLStyleModel",
      "state": {
       "description_width": "",
       "font_size": null,
       "text_color": null
      }
     },
     "0eddb27526b44b0db4bdc8d80871f6c8": {
      "model_module": "@jupyter-widgets/controls",
      "model_module_version": "2.0.0",
      "model_name": "HTMLStyleModel",
      "state": {
       "description_width": "",
       "font_size": null,
       "text_color": null
      }
     },
     "14a33d1203d9472b9ec46851b6f005da": {
      "model_module": "@jupyter-widgets/base",
      "model_module_version": "2.0.0",
      "model_name": "LayoutModel",
      "state": {
       "grid_template_areas": "\n                                       \". . . . right \"\n                                        ",
       "grid_template_columns": "20% 20% 20% 20% 20%",
       "width": "100%"
      }
     },
     "153d14dcb13d422092fd7679f03330e1": {
      "model_module": "@jupyter-widgets/base",
      "model_module_version": "2.0.0",
      "model_name": "LayoutModel",
      "state": {
       "margin": "0px 0px 10px 0px"
      }
     },
     "1b51fb32e8d4437bb67188eead8e45d4": {
      "model_module": "@jupyter-widgets/controls",
      "model_module_version": "2.0.0",
      "model_name": "HTMLStyleModel",
      "state": {
       "description_width": "",
       "font_size": null,
       "text_color": null
      }
     },
     "264688798810419ea092d2556ded6b02": {
      "model_module": "@jupyter-widgets/controls",
      "model_module_version": "2.0.0",
      "model_name": "HTMLStyleModel",
      "state": {
       "description_width": "",
       "font_size": null,
       "text_color": null
      }
     },
     "29b809f7fd3d4e25979a6ab8a4e77f41": {
      "model_module": "@jupyter-widgets/controls",
      "model_module_version": "2.0.0",
      "model_name": "HTMLStyleModel",
      "state": {
       "description_width": "",
       "font_size": null,
       "text_color": null
      }
     },
     "312ed4827386442ea3e3e1fe4e6066e0": {
      "model_module": "@jupyter-widgets/controls",
      "model_module_version": "2.0.0",
      "model_name": "ButtonStyleModel",
      "state": {
       "font_family": null,
       "font_size": null,
       "font_style": null,
       "font_variant": null,
       "font_weight": null,
       "text_color": null,
       "text_decoration": null
      }
     },
     "3d3517e300db470fb28ba93f0b6ad483": {
      "model_module": "@jupyter-widgets/controls",
      "model_module_version": "2.0.0",
      "model_name": "HTMLStyleModel",
      "state": {
       "description_width": "",
       "font_size": null,
       "text_color": null
      }
     },
     "44c6d6901dec42f8815e07a6cbb3b700": {
      "model_module": "@jupyter-widgets/base",
      "model_module_version": "2.0.0",
      "model_name": "LayoutModel",
      "state": {
       "width": "70px"
      }
     },
     "4f70099d5d504445a6ccb72b031010d3": {
      "model_module": "@jupyter-widgets/controls",
      "model_module_version": "2.0.0",
      "model_name": "HTMLModel",
      "state": {
       "layout": "IPY_MODEL_44c6d6901dec42f8815e07a6cbb3b700",
       "style": "IPY_MODEL_264688798810419ea092d2556ded6b02",
       "value": "<h5>Queue</h5>"
      }
     },
     "591257f5bd804d9186d1ef52defcb2b4": {
      "model_module": "@jupyter-widgets/base",
      "model_module_version": "2.0.0",
      "model_name": "LayoutModel",
      "state": {
       "margin": "0px 0px 0px 37px",
       "width": "600px"
      }
     },
     "74c1ef2da854453aa531b142a08208ac": {
      "model_module": "@jupyter-widgets/controls",
      "model_module_version": "2.0.0",
      "model_name": "GridBoxModel",
      "state": {
       "children": [
        "IPY_MODEL_b366b3ce926b4bd08d12fe282657e47f"
       ],
       "layout": "IPY_MODEL_14a33d1203d9472b9ec46851b6f005da"
      }
     },
     "7c786831e7e14878bfe7ce4c964f78c1": {
      "model_module": "@jupyter-widgets/controls",
      "model_module_version": "2.0.0",
      "model_name": "HTMLModel",
      "state": {
       "layout": "IPY_MODEL_153d14dcb13d422092fd7679f03330e1",
       "style": "IPY_MODEL_3d3517e300db470fb28ba93f0b6ad483",
       "value": "<p style='font-family: IBM Plex Sans, Arial, Helvetica, sans-serif; font-size: 20px; font-weight: medium;'>Circuit Properties</p>"
      }
     },
     "8214c02489c44fd08bdf507afc5ccad6": {
      "model_module": "@jupyter-widgets/base",
      "model_module_version": "2.0.0",
      "model_name": "LayoutModel",
      "state": {
       "grid_area": "right",
       "padding": "0px 0px 0px 0px",
       "width": "70px"
      }
     },
     "85df694932b0440ba3f4876cc2626cfe": {
      "model_module": "@jupyter-widgets/controls",
      "model_module_version": "2.0.0",
      "model_name": "HTMLModel",
      "state": {
       "layout": "IPY_MODEL_c7569a170ec94a70acecc5e6ede6d5be",
       "style": "IPY_MODEL_0eddb27526b44b0db4bdc8d80871f6c8",
       "value": "<h5>Job ID</h5>"
      }
     },
     "b366b3ce926b4bd08d12fe282657e47f": {
      "model_module": "@jupyter-widgets/controls",
      "model_module_version": "2.0.0",
      "model_name": "ButtonModel",
      "state": {
       "button_style": "primary",
       "description": "Clear",
       "layout": "IPY_MODEL_8214c02489c44fd08bdf507afc5ccad6",
       "style": "IPY_MODEL_312ed4827386442ea3e3e1fe4e6066e0",
       "tooltip": null
      }
     },
     "bbf240b50aa74d728077257512b57713": {
      "model_module": "@jupyter-widgets/controls",
      "model_module_version": "2.0.0",
      "model_name": "HTMLModel",
      "state": {
       "layout": "IPY_MODEL_04634024155547c08f6fce0c556327d1",
       "style": "IPY_MODEL_0e7b1e30fd7540608ce4edbfd58713a3",
       "value": "<h5>Status</h5>"
      }
     },
     "bc962fdc22e74f36baccbed5bd838f82": {
      "model_module": "@jupyter-widgets/controls",
      "model_module_version": "2.0.0",
      "model_name": "HTMLModel",
      "state": {
       "layout": "IPY_MODEL_c95e9e961b8e4da89222aa9d3f2d2807",
       "style": "IPY_MODEL_1b51fb32e8d4437bb67188eead8e45d4",
       "value": "<h5>Backend</h5>"
      }
     },
     "c7569a170ec94a70acecc5e6ede6d5be": {
      "model_module": "@jupyter-widgets/base",
      "model_module_version": "2.0.0",
      "model_name": "LayoutModel",
      "state": {
       "width": "190px"
      }
     },
     "c95e9e961b8e4da89222aa9d3f2d2807": {
      "model_module": "@jupyter-widgets/base",
      "model_module_version": "2.0.0",
      "model_name": "LayoutModel",
      "state": {
       "width": "145px"
      }
     },
     "dcd2cbf07cf840cdbb3ca4844f3ca217": {
      "model_module": "@jupyter-widgets/controls",
      "model_module_version": "2.0.0",
      "model_name": "HTMLModel",
      "state": {
       "layout": "IPY_MODEL_e993a8d3404c41a89a90e6ccf80e72ac",
       "style": "IPY_MODEL_29b809f7fd3d4e25979a6ab8a4e77f41",
       "value": "<h5>Message</h5>"
      }
     },
     "e993a8d3404c41a89a90e6ccf80e72ac": {
      "model_module": "@jupyter-widgets/base",
      "model_module_version": "2.0.0",
      "model_name": "LayoutModel",
      "state": {}
     }
    },
    "version_major": 2,
    "version_minor": 0
   }
  }
 },
 "nbformat": 4,
 "nbformat_minor": 5
}
